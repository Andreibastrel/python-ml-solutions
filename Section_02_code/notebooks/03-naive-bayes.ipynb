{
 "cells": [
  {
   "cell_type": "markdown",
   "metadata": {
    "deletable": true,
    "editable": true
   },
   "source": [
    "# Naive Bayes"
   ]
  },
  {
   "cell_type": "code",
   "execution_count": 1,
   "metadata": {
    "collapsed": true,
    "deletable": true,
    "editable": true
   },
   "outputs": [],
   "source": [
    "import numpy as np\n",
    "import pandas as pd\n",
    "from sklearn import linear_model\n",
    "import matplotlib.pyplot as plt"
   ]
  },
  {
   "cell_type": "code",
   "execution_count": 2,
   "metadata": {
    "collapsed": true,
    "deletable": true,
    "editable": true
   },
   "outputs": [],
   "source": [
    "def plot_classifier(classifier, X, y):\n",
    "    # define ranges to plot the figure\n",
    "    x_min, x_max = min(X[:, 0]) - 1.0, max(X[:, 0]) + 1.0\n",
    "    y_min, y_max = min(X[:, 1]) - 1.0, max(X[:, 1]) + 1.0\n",
    "\n",
    "    # denotes the step size that will be used in the mesh grid\n",
    "    step_size =0.01\n",
    "\n",
    "    # define the mesh grid\n",
    "    x_values, y_values = np.meshgrid(np.arange(x_min, x_max, step_size), np.arange(y_min, y_max, step_size))\n",
    "\n",
    "    # compute the classifier output\n",
    "    mesh_output = classifier.predict(np.c_[x_values.ravel(), y_values.ravel()])\n",
    "\n",
    "    # reshape the array\n",
    "    mesh_output = mesh_output.reshape(x_values.shape)\n",
    "\n",
    "    # Plot the output using a colored plot\n",
    "    plt.figure()\n",
    "\n",
    "    # choose a color scheme you can find all the options\n",
    "    # here: http://matplotlib.org/examples/color/colormaps_reference.html\n",
    "    plt.pcolormesh(x_values, y_values, mesh_output, cmap=plt.cm.Set1)\n",
    "\n",
    "    # Overlay the training points on the plot\n",
    "    plt.scatter(X[:, 0], X[:, 1], c=y, edgecolors='black', linewidth=1, alpha=0.6, cmap=plt.cm.Paired)\n",
    "\n",
    "    # specify the boundaries of the figure\n",
    "    plt.xlim(x_values.min(), x_values.max())\n",
    "    plt.ylim(y_values.min(), y_values.max())\n",
    "\n",
    "    # specify the ticks on the X and Y axes\n",
    "    plt.xticks((np.arange(int(min(X[:, 0])-1), int(max(X[:, 0])+1), 1.0)))\n",
    "    plt.yticks((np.arange(int(min(X[:, 1])-1), int(max(X[:, 1])+1), 1.0)))\n",
    "    \n",
    "    plt.show()"
   ]
  },
  {
   "cell_type": "markdown",
   "metadata": {
    "deletable": true,
    "editable": true
   },
   "source": [
    "## Data"
   ]
  },
  {
   "cell_type": "code",
   "execution_count": 3,
   "metadata": {
    "collapsed": false,
    "deletable": true,
    "editable": true
   },
   "outputs": [
    {
     "data": {
      "text/html": [
       "<div>\n",
       "<table border=\"1\" class=\"dataframe\">\n",
       "  <thead>\n",
       "    <tr style=\"text-align: right;\">\n",
       "      <th></th>\n",
       "      <th>0</th>\n",
       "      <th>1</th>\n",
       "      <th>2</th>\n",
       "    </tr>\n",
       "  </thead>\n",
       "  <tbody>\n",
       "    <tr>\n",
       "      <th>0</th>\n",
       "      <td>8.73</td>\n",
       "      <td>0.31</td>\n",
       "      <td>2</td>\n",
       "    </tr>\n",
       "    <tr>\n",
       "      <th>1</th>\n",
       "      <td>4.71</td>\n",
       "      <td>-0.42</td>\n",
       "      <td>3</td>\n",
       "    </tr>\n",
       "    <tr>\n",
       "      <th>2</th>\n",
       "      <td>4.58</td>\n",
       "      <td>6.18</td>\n",
       "      <td>1</td>\n",
       "    </tr>\n",
       "    <tr>\n",
       "      <th>3</th>\n",
       "      <td>9.38</td>\n",
       "      <td>2.18</td>\n",
       "      <td>2</td>\n",
       "    </tr>\n",
       "    <tr>\n",
       "      <th>4</th>\n",
       "      <td>4.78</td>\n",
       "      <td>5.28</td>\n",
       "      <td>1</td>\n",
       "    </tr>\n",
       "  </tbody>\n",
       "</table>\n",
       "</div>"
      ],
      "text/plain": [
       "      0     1  2\n",
       "0  8.73  0.31  2\n",
       "1  4.71 -0.42  3\n",
       "2  4.58  6.18  1\n",
       "3  9.38  2.18  2\n",
       "4  4.78  5.28  1"
      ]
     },
     "execution_count": 3,
     "metadata": {},
     "output_type": "execute_result"
    }
   ],
   "source": [
    "dataset = pd.read_csv('../data/data_multivar.txt', header=None)\n",
    "dataset.head()"
   ]
  },
  {
   "cell_type": "code",
   "execution_count": 4,
   "metadata": {
    "collapsed": false,
    "deletable": true,
    "editable": true
   },
   "outputs": [],
   "source": [
    "x = dataset.values[:, :-1]\n",
    "y = dataset.values[:, -1]"
   ]
  },
  {
   "cell_type": "code",
   "execution_count": 5,
   "metadata": {
    "collapsed": false,
    "deletable": true,
    "editable": true
   },
   "outputs": [
    {
     "data": {
      "text/plain": [
       "array([ 2.,  3.,  1.,  2.,  1.,  0.,  2.,  3.,  2.,  0.,  2.,  0.,  3.,\n",
       "        1.,  0.,  3.,  0.,  3.,  2.,  3.,  0.,  0.,  3.,  1.,  1.,  2.,\n",
       "        3.,  3.,  1.,  2.,  2.,  2.,  0.,  2.,  3.,  3.,  3.,  3.,  3.,\n",
       "        0.,  0.,  2.,  1.,  2.,  1.,  0.,  3.,  3.,  0.,  2.,  1.,  2.,\n",
       "        2.,  3.,  3.,  2.,  2.,  0.,  1.,  3.,  3.,  0.,  1.,  3.,  0.,\n",
       "        3.,  3.,  1.,  3.,  1.,  3.,  2.,  2.,  0.,  1.,  2.,  0.,  3.,\n",
       "        3.,  1.,  3.,  3.,  2.,  1.,  0.,  0.,  1.,  0.,  2.,  2.,  3.,\n",
       "        1.,  1.,  1.,  3.,  0.,  3.,  1.,  1.,  1.,  2.,  2.,  1.,  3.,\n",
       "        0.,  0.,  0.,  0.,  2.,  2.,  3.,  1.,  0.,  2.,  0.,  3.,  0.,\n",
       "        2.,  0.,  3.,  3.,  0.,  3.,  3.,  0.,  2.,  2.,  3.,  0.,  1.,\n",
       "        1.,  3.,  2.,  1.,  0.,  1.,  2.,  2.,  1.,  0.,  3.,  1.,  2.,\n",
       "        2.,  2.,  1.,  0.,  0.,  0.,  2.,  2.,  0.,  1.,  0.,  1.,  0.,\n",
       "        3.,  2.,  2.,  0.,  2.,  2.,  1.,  3.,  3.,  1.,  3.,  3.,  1.,\n",
       "        1.,  2.,  3.,  1.,  3.,  2.,  0.,  2.,  2.,  2.,  1.,  0.,  0.,\n",
       "        1.,  0.,  1.,  2.,  2.,  2.,  1.,  1.,  3.,  3.,  1.,  2.,  0.,\n",
       "        1.,  1.,  2.,  3.,  1.,  1.,  2.,  1.,  2.,  2.,  1.,  0.,  1.,\n",
       "        3.,  2.,  0.,  2.,  1.,  2.,  3.,  0.,  1.,  3.,  2.,  3.,  1.,\n",
       "        0.,  2.,  1.,  2.,  2.,  2.,  1.,  3.,  0.,  2.,  3.,  2.,  0.,\n",
       "        2.,  3.,  1.,  3.,  1.,  2.,  0.,  2.,  2.,  3.,  3.,  3.,  0.,\n",
       "        0.,  3.,  3.,  1.,  1.,  1.,  3.,  3.,  3.,  0.,  1.,  1.,  1.,\n",
       "        0.,  3.,  0.,  0.,  3.,  0.,  1.,  1.,  2.,  0.,  1.,  0.,  3.,\n",
       "        3.,  2.,  2.,  1.,  1.,  3.,  0.,  1.,  3.,  3.,  0.,  0.,  0.,\n",
       "        2.,  3.,  0.,  3.,  1.,  2.,  1.,  0.,  1.,  2.,  1.,  1.,  2.,\n",
       "        2.,  0.,  0.,  2.,  1.,  0.,  2.,  2.,  2.,  0.,  0.,  3.,  1.,\n",
       "        2.,  1.,  3.,  3.,  0.,  1.,  0.,  0.,  1.,  3.,  0.,  1.,  1.,\n",
       "        0.,  3.,  1.,  3.,  2.,  1.,  2.,  0.,  3.,  3.,  1.,  3.,  0.,\n",
       "        3.,  3.,  1.,  2.,  2.,  1.,  2.,  0.,  1.,  0.,  0.,  1.,  1.,\n",
       "        0.,  2.,  0.,  3.,  0.,  1.,  0.,  3.,  3.,  0.,  2.,  3.,  0.,\n",
       "        1.,  3.,  2.,  3.,  1.,  2.,  1.,  0.,  0.,  0.,  3.,  3.,  2.,\n",
       "        0.,  1.,  3.,  0.,  1.,  0.,  3.,  0.,  0.,  1.,  2.,  2.,  2.,\n",
       "        2.,  1.,  3.,  2.,  0.,  3.,  1.,  0.,  0.,  2.])"
      ]
     },
     "execution_count": 5,
     "metadata": {},
     "output_type": "execute_result"
    }
   ],
   "source": [
    "y"
   ]
  },
  {
   "cell_type": "markdown",
   "metadata": {
    "deletable": true,
    "editable": true
   },
   "source": [
    "## Training"
   ]
  },
  {
   "cell_type": "code",
   "execution_count": 6,
   "metadata": {
    "collapsed": false,
    "deletable": true,
    "editable": true
   },
   "outputs": [],
   "source": [
    "from sklearn.model_selection import train_test_split\n",
    "from sklearn.naive_bayes import GaussianNB\n",
    "\n",
    "X_train, X_test, y_train, y_test = train_test_split(x, y, test_size=0.25, random_state=5)\n",
    "nb_model = GaussianNB()\n",
    "nb_model.fit(X_train, y_train)\n",
    "y_test_pred = nb_model.predict(X_test)"
   ]
  },
  {
   "cell_type": "code",
   "execution_count": 7,
   "metadata": {
    "collapsed": false,
    "deletable": true,
    "editable": true
   },
   "outputs": [
    {
     "data": {
      "image/png": "[encoded data removed]",
      "text/plain": [
       "<matplotlib.figure.Figure at 0x7f84bc546710>"
      ]
     },
     "metadata": {},
     "output_type": "display_data"
    }
   ],
   "source": [
    "plot_classifier(nb_model, x, y)"
   ]
  },
  {
   "cell_type": "markdown",
   "metadata": {
    "collapsed": true,
    "deletable": true,
    "editable": true
   },
   "source": [
    "## Accuracy "
   ]
  },
  {
   "cell_type": "code",
   "execution_count": 8,
   "metadata": {
    "collapsed": false,
    "deletable": true,
    "editable": true
   },
   "outputs": [
    {
     "name": "stdout",
     "output_type": "stream",
     "text": [
      "98.0\n"
     ]
    }
   ],
   "source": [
    "accuracy = 100.0 * (y_test == y_test_pred).sum() / y_test.shape[0]\n",
    "print accuracy"
   ]
  },
  {
   "cell_type": "markdown",
   "metadata": {
    "collapsed": true,
    "deletable": true,
    "editable": true
   },
   "source": [
    "## Metrics"
   ]
  },
  {
   "cell_type": "code",
   "execution_count": 12,
   "metadata": {
    "collapsed": false
   },
   "outputs": [
    {
     "name": "stdout",
     "output_type": "stream",
     "text": [
      "Accuracy: 99.5%\n",
      "F1: 99.5%\n",
      "Precision: 99.52%\n",
      "Recall: 99.5%\n"
     ]
    }
   ],
   "source": [
    "from sklearn.model_selection import cross_val_score\n",
    "\n",
    "num_validations = 5\n",
    "accuracy = cross_val_score(nb_model, x, y, scoring='accuracy', cv=num_validations)\n",
    "print 'Accuracy: ' + str(round(100*accuracy.mean(), 2)) + '%'\n",
    "\n",
    "f1 = cross_val_score(nb_model, x, y, scoring='f1_weighted', cv=num_validations)\n",
    "print 'F1: ' + str(round(100*f1.mean(), 2)) + '%'\n",
    "\n",
    "precision = cross_val_score(nb_model, x, y, scoring='precision_weighted', cv=num_validations)\n",
    "print 'Precision: ' + str(round(100*precision.mean(), 2)) + '%'\n",
    "\n",
    "recall = cross_val_score(nb_model, x, y, scoring='recall_weighted', cv=num_validations)\n",
    "print 'Recall: ' + str(round(100*recall.mean(), 2)) + '%'"
   ]
  },
  {
   "cell_type": "code",
   "execution_count": null,
   "metadata": {
    "collapsed": true
   },
   "outputs": [],
   "source": []
  }
 ],
 "metadata": {
  "kernelspec": {
   "display_name": "Python 2",
   "language": "python",
   "name": "python2"
  },
  "language_info": {
   "codemirror_mode": {
    "name": "ipython",
    "version": 2
   },
   "file_extension": ".py",
   "mimetype": "text/x-python",
   "name": "python",
   "nbconvert_exporter": "python",
   "pygments_lexer": "ipython2",
   "version": "2.7.12"
  }
 },
 "nbformat": 4,
 "nbformat_minor": 2
}
