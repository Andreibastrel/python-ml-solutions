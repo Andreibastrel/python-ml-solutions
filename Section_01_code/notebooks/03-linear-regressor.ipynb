{
 "cells": [
  {
   "cell_type": "code",
   "execution_count": 2,
   "metadata": {
    "collapsed": true,
    "deletable": true,
    "editable": true
   },
   "outputs": [],
   "source": [
    "import csv\n",
    "import numpy as np"
   ]
  },
  {
   "cell_type": "code",
   "execution_count": 3,
   "metadata": {
    "collapsed": true,
    "deletable": true,
    "editable": true
   },
   "outputs": [],
   "source": [
    "DATA_FILE = './data/single-var.csv'\n",
    "data = np.genfromtxt (DATA_FILE, delimiter=\",\")"
   ]
  },
  {
   "cell_type": "code",
   "execution_count": 8,
   "metadata": {
    "collapsed": false,
    "deletable": true,
    "editable": true
   },
   "outputs": [
    {
     "data": {
      "text/plain": [
       "array([[ 4.94,  4.37],\n",
       "       [-1.58,  1.7 ],\n",
       "       [-4.45,  1.88],\n",
       "       [-6.06,  0.56],\n",
       "       [-1.22,  2.23],\n",
       "       [-3.55,  1.53],\n",
       "       [ 0.36,  2.99],\n",
       "       [-3.24,  0.48],\n",
       "       [ 1.31,  2.76],\n",
       "       [ 2.17,  3.99],\n",
       "       [ 2.94,  3.25],\n",
       "       [-0.92,  2.27],\n",
       "       [-0.91,  2.  ],\n",
       "       [ 1.24,  4.75],\n",
       "       [ 1.56,  3.52],\n",
       "       [-4.14,  1.39],\n",
       "       [ 3.75,  4.9 ],\n",
       "       [ 4.15,  4.44],\n",
       "       [ 0.33,  2.72],\n",
       "       [ 3.41,  4.59],\n",
       "       [ 2.27,  5.3 ],\n",
       "       [ 2.6 ,  3.43],\n",
       "       [ 1.06,  2.53],\n",
       "       [ 1.04,  3.69],\n",
       "       [ 2.74,  3.1 ],\n",
       "       [-0.71,  2.72],\n",
       "       [-2.75,  2.82],\n",
       "       [ 0.55,  3.53],\n",
       "       [-3.45,  1.77],\n",
       "       [ 1.09,  4.61],\n",
       "       [ 2.47,  4.24],\n",
       "       [-6.35,  1.  ],\n",
       "       [ 1.83,  3.84],\n",
       "       [-0.68,  2.42],\n",
       "       [-3.83,  0.67],\n",
       "       [-2.03,  1.07],\n",
       "       [ 3.13,  3.19],\n",
       "       [ 0.92,  4.21],\n",
       "       [ 4.02,  5.24],\n",
       "       [ 3.89,  3.94],\n",
       "       [-1.81,  2.85],\n",
       "       [ 3.94,  4.86],\n",
       "       [-2.  ,  1.31],\n",
       "       [ 0.54,  3.99],\n",
       "       [ 0.78,  2.92],\n",
       "       [ 2.15,  4.72],\n",
       "       [ 2.55,  3.83],\n",
       "       [-0.63,  2.58],\n",
       "       [ 1.06,  2.89],\n",
       "       [-0.36,  1.99]])"
      ]
     },
     "execution_count": 8,
     "metadata": {},
     "output_type": "execute_result"
    }
   ],
   "source": [
    "data"
   ]
  },
  {
   "cell_type": "code",
   "execution_count": 11,
   "metadata": {
    "collapsed": false,
    "deletable": true,
    "editable": true
   },
   "outputs": [
    {
     "data": {
      "text/plain": [
       "array([ 4.94,  4.37])"
      ]
     },
     "execution_count": 11,
     "metadata": {},
     "output_type": "execute_result"
    }
   ],
   "source": [
    "data[0]"
   ]
  },
  {
   "cell_type": "code",
   "execution_count": 12,
   "metadata": {
    "collapsed": false,
    "deletable": true,
    "editable": true
   },
   "outputs": [
    {
     "data": {
      "text/plain": [
       "array([ 4.94, -1.58, -4.45, -6.06, -1.22, -3.55,  0.36, -3.24,  1.31,\n",
       "        2.17,  2.94, -0.92, -0.91,  1.24,  1.56, -4.14,  3.75,  4.15,\n",
       "        0.33,  3.41,  2.27,  2.6 ,  1.06,  1.04,  2.74, -0.71, -2.75,\n",
       "        0.55, -3.45,  1.09,  2.47, -6.35,  1.83, -0.68, -3.83, -2.03,\n",
       "        3.13,  0.92,  4.02,  3.89, -1.81,  3.94, -2.  ,  0.54,  0.78,\n",
       "        2.15,  2.55, -0.63,  1.06, -0.36])"
      ]
     },
     "execution_count": 12,
     "metadata": {},
     "output_type": "execute_result"
    }
   ],
   "source": [
    "data[:, 0]"
   ]
  },
  {
   "cell_type": "markdown",
   "metadata": {
    "deletable": true,
    "editable": true
   },
   "source": [
    "## Train-test split"
   ]
  },
  {
   "cell_type": "code",
   "execution_count": 29,
   "metadata": {
    "collapsed": false,
    "deletable": true,
    "editable": true
   },
   "outputs": [
    {
     "data": {
      "text/plain": [
       "50"
      ]
     },
     "execution_count": 29,
     "metadata": {},
     "output_type": "execute_result"
    }
   ],
   "source": [
    "len(data)"
   ]
  },
  {
   "cell_type": "code",
   "execution_count": 30,
   "metadata": {
    "collapsed": true,
    "deletable": true,
    "editable": true
   },
   "outputs": [],
   "source": [
    "nb_training = int(0.8 * len(data))"
   ]
  },
  {
   "cell_type": "code",
   "execution_count": 31,
   "metadata": {
    "collapsed": false,
    "deletable": true,
    "editable": true
   },
   "outputs": [],
   "source": [
    "x_train = data[:nb_training, 0]\n",
    "y_train = data[:nb_training, 1]"
   ]
  },
  {
   "cell_type": "code",
   "execution_count": 32,
   "metadata": {
    "collapsed": false,
    "deletable": true,
    "editable": true
   },
   "outputs": [],
   "source": [
    "x_test = data[nb_training:, 0]\n",
    "y_test = data[nb_training:, 1]"
   ]
  },
  {
   "cell_type": "markdown",
   "metadata": {},
   "source": [
    "## Better train-test split"
   ]
  },
  {
   "cell_type": "code",
   "execution_count": 53,
   "metadata": {
    "collapsed": false,
    "deletable": true,
    "editable": true
   },
   "outputs": [],
   "source": [
    "from sklearn.model_selection import train_test_split\n",
    "X_train, X_test, y_train, y_test = train_test_split(data[:, 0], data[:,1], test_size=0.25, random_state=42 )"
   ]
  },
  {
   "cell_type": "code",
   "execution_count": 54,
   "metadata": {
    "collapsed": false,
    "deletable": true,
    "editable": true
   },
   "outputs": [
    {
     "data": {
      "text/plain": [
       "array([ 1.31, -6.06,  0.36,  3.94,  2.55, -0.63, -4.14,  2.17,  3.75,\n",
       "        2.74, -3.83, -6.35,  4.94,  0.78,  0.55, -0.68, -3.55,  1.09,\n",
       "       -0.92,  3.13, -1.58,  2.6 , -4.45,  0.54, -2.03,  1.04, -1.81,\n",
       "        2.94,  1.06,  0.33, -0.36,  2.27, -3.24, -2.  ,  1.56, -3.45,  4.02])"
      ]
     },
     "execution_count": 54,
     "metadata": {},
     "output_type": "execute_result"
    }
   ],
   "source": [
    "X_train"
   ]
  },
  {
   "cell_type": "markdown",
   "metadata": {},
   "source": [
    "## Training the model"
   ]
  },
  {
   "cell_type": "code",
   "execution_count": 55,
   "metadata": {
    "collapsed": false,
    "deletable": true,
    "editable": true
   },
   "outputs": [],
   "source": [
    "from sklearn import linear_model\n",
    "linear_regressor = linear_model.LinearRegression()"
   ]
  },
  {
   "cell_type": "code",
   "execution_count": 57,
   "metadata": {
    "collapsed": false,
    "deletable": true,
    "editable": true
   },
   "outputs": [],
   "source": [
    "X_train = X_train.reshape(-1, 1)"
   ]
  },
  {
   "cell_type": "code",
   "execution_count": 58,
   "metadata": {
    "collapsed": false,
    "deletable": true,
    "editable": true
   },
   "outputs": [
    {
     "data": {
      "text/plain": [
       "LinearRegression(copy_X=True, fit_intercept=True, n_jobs=1, normalize=False)"
      ]
     },
     "execution_count": 58,
     "metadata": {},
     "output_type": "execute_result"
    }
   ],
   "source": [
    "linear_regressor.fit(X_train, y_train)"
   ]
  },
  {
   "cell_type": "markdown",
   "metadata": {
    "deletable": true,
    "editable": true
   },
   "source": [
    "## Plot"
   ]
  },
  {
   "cell_type": "code",
   "execution_count": 59,
   "metadata": {
    "collapsed": true,
    "deletable": true,
    "editable": true
   },
   "outputs": [],
   "source": [
    "import matplotlib.pyplot as plt"
   ]
  },
  {
   "cell_type": "code",
   "execution_count": 60,
   "metadata": {
    "collapsed": true,
    "deletable": true,
    "editable": true
   },
   "outputs": [],
   "source": [
    "y_pred = linear_regressor.predict(X_train)"
   ]
  },
  {
   "cell_type": "code",
   "execution_count": 63,
   "metadata": {
    "collapsed": false,
    "deletable": true,
    "editable": true
   },
   "outputs": [
    {
     "data": {
      "image/png": "[encoded data removed]",
      "text/plain": [
       "<matplotlib.figure.Figure at 0x7f00fb8d6890>"
      ]
     },
     "metadata": {},
     "output_type": "display_data"
    }
   ],
   "source": [
    "fig, ax = plt.subplots()\n",
    "plt.scatter(X_train, y_train, color='red')\n",
    "plt.plot(X_train, y_pred, color='blue', linewidth=3)\n",
    "plt.title('Linear Model')\n",
    "plt.show()"
   ]
  },
  {
   "cell_type": "code",
   "execution_count": 66,
   "metadata": {
    "collapsed": false,
    "deletable": true,
    "editable": true
   },
   "outputs": [
    {
     "data": {
      "image/png": "[encoded data removed]",
      "text/plain": [
       "<matplotlib.figure.Figure at 0x7f00fb764590>"
      ]
     },
     "metadata": {},
     "output_type": "display_data"
    }
   ],
   "source": [
    "y_pred = linear_regressor.predict(X_test.reshape(-1, 1))\n",
    "\n",
    "fig, ax = plt.subplots()\n",
    "plt.scatter(X_test, y_test, color='green')\n",
    "plt.plot(X_test, y_pred, color='black', linewidth=3)\n",
    "plt.title('Linear Model')\n",
    "plt.show()"
   ]
  },
  {
   "cell_type": "markdown",
   "metadata": {
    "deletable": true,
    "editable": true
   },
   "source": [
    "## Metrics"
   ]
  },
  {
   "cell_type": "code",
   "execution_count": 70,
   "metadata": {
    "collapsed": false,
    "deletable": true,
    "editable": true
   },
   "outputs": [
    {
     "name": "stdout",
     "output_type": "stream",
     "text": [
      "Mean absolute error = 0.56\n",
      "Mean squared error = 0.49\n",
      "Median absolute error = 0.43\n",
      "Explain variance score = 0.58\n",
      "R2 score = 0.45\n"
     ]
    }
   ],
   "source": [
    "import sklearn.metrics as sm\n",
    "\n",
    "print 'Mean absolute error =', round(sm.mean_absolute_error(y_test, y_pred), 2)\n",
    "print 'Mean squared error =', round(sm.mean_squared_error(y_test, y_pred), 2)\n",
    "print 'Median absolute error =', round(sm.median_absolute_error(y_test, y_pred), 2)\n",
    "print 'Explain variance score =', round(sm.explained_variance_score(y_test, y_pred), 2)\n",
    "print 'R2 score =', round(sm.r2_score(y_test, y_pred), 2)"
   ]
  },
  {
   "cell_type": "markdown",
   "metadata": {
    "deletable": true,
    "editable": true
   },
   "source": [
    "## Saving/Loading Models"
   ]
  },
  {
   "cell_type": "code",
   "execution_count": 76,
   "metadata": {
    "collapsed": false,
    "deletable": true,
    "editable": true
   },
   "outputs": [
    {
     "name": "stdout",
     "output_type": "stream",
     "text": [
      "New mean absolute error = 0.56\n"
     ]
    }
   ],
   "source": [
    "import pickle as pickle\n",
    "\n",
    "output_model_file = '03-model_linear_regr.pkl'\n",
    "\n",
    "with open(output_model_file, 'wb') as f:\n",
    "    pickle.dump(linear_regressor, f)\n",
    "\n",
    "with open(output_model_file, 'rb') as f:\n",
    "    loaded_model = pickle.load(f)\n",
    "\n",
    "y_pred = loaded_model.predict(X_test.reshape(-1,1))\n",
    "print 'New mean absolute error =', round(sm.mean_absolute_error(y_test, y_pred), 2)\n"
   ]
  }
 ],
 "metadata": {
  "kernelspec": {
   "display_name": "Python 2",
   "language": "python",
   "name": "python2"
  },
  "language_info": {
   "codemirror_mode": {
    "name": "ipython",
    "version": 2
   },
   "file_extension": ".py",
   "mimetype": "text/x-python",
   "name": "python",
   "nbconvert_exporter": "python",
   "pygments_lexer": "ipython2",
   "version": "2.7.12"
  }
 },
 "nbformat": 4,
 "nbformat_minor": 2
}
