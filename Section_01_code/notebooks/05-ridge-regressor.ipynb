{
 "cells": [
  {
   "cell_type": "markdown",
   "metadata": {
    "deletable": true,
    "editable": true
   },
   "source": [
    "# Ridge regressor"
   ]
  },
  {
   "cell_type": "code",
   "execution_count": 2,
   "metadata": {
    "collapsed": false,
    "deletable": true,
    "editable": true
   },
   "outputs": [
    {
     "name": "stdout",
     "output_type": "stream",
     "text": [
      "\n"
     ]
    }
   ],
   "source": [
    "import numpy as np"
   ]
  },
  {
   "cell_type": "code",
   "execution_count": 3,
   "metadata": {
    "collapsed": true,
    "deletable": true,
    "editable": true
   },
   "outputs": [],
   "source": [
    "DATA_FILE = './data/multi-var.csv'\n",
    "data = np.genfromtxt (DATA_FILE, delimiter=\",\")"
   ]
  },
  {
   "cell_type": "code",
   "execution_count": 4,
   "metadata": {
    "collapsed": false,
    "deletable": true,
    "editable": true
   },
   "outputs": [],
   "source": [
    "X = data [:, :-1]\n",
    "Y = data[:, -1]"
   ]
  },
  {
   "cell_type": "code",
   "execution_count": 5,
   "metadata": {
    "collapsed": false,
    "deletable": true,
    "editable": true
   },
   "outputs": [
    {
     "data": {
      "text/plain": [
       "array([[ 0.39,  2.78,  7.11],\n",
       "       [ 1.65,  6.7 ,  2.42],\n",
       "       [ 5.67,  6.38,  3.79],\n",
       "       ..., \n",
       "       [ 6.19,  3.01,  6.18],\n",
       "       [ 8.14,  2.92,  1.87],\n",
       "       [ 0.31,  2.12,  6.06]])"
      ]
     },
     "execution_count": 5,
     "metadata": {},
     "output_type": "execute_result"
    }
   ],
   "source": [
    "X"
   ]
  },
  {
   "cell_type": "code",
   "execution_count": 6,
   "metadata": {
    "collapsed": true,
    "deletable": true,
    "editable": true
   },
   "outputs": [],
   "source": [
    "Y = Y.reshape(-1, 1)"
   ]
  },
  {
   "cell_type": "code",
   "execution_count": 7,
   "metadata": {
    "collapsed": false,
    "deletable": true,
    "editable": true
   },
   "outputs": [
    {
     "data": {
      "text/plain": [
       "array([[ -8.07000000e+00],\n",
       "       [  1.22400000e+01],\n",
       "       [  2.39600000e+01],\n",
       "       [  4.29000000e+00],\n",
       "       [  1.63700000e+01],\n",
       "       [  1.24400000e+01],\n",
       "       [  1.34500000e+01],\n",
       "       [  2.42400000e+01],\n",
       "       [  1.12300000e+01],\n",
       "       [  2.58100000e+01],\n",
       "       [  1.30900000e+01],\n",
       "       [  6.30000000e-01],\n",
       "       [  3.22000000e+00],\n",
       "       [  3.32000000e+00],\n",
       "       [ -2.00000000e-02],\n",
       "       [  1.74800000e+01],\n",
       "       [  2.41600000e+01],\n",
       "       [  5.34000000e+00],\n",
       "       [  2.18400000e+01],\n",
       "       [  1.18800000e+01],\n",
       "       [ -9.81000000e+00],\n",
       "       [ -7.30000000e-01],\n",
       "       [ -1.44500000e+01],\n",
       "       [  3.85100000e+01],\n",
       "       [  1.31900000e+01],\n",
       "       [  4.87000000e+00],\n",
       "       [  1.29700000e+01],\n",
       "       [  1.05400000e+01],\n",
       "       [  1.21000000e+01],\n",
       "       [ -8.85000000e+00],\n",
       "       [  2.00900000e+01],\n",
       "       [ -1.62000000e+00],\n",
       "       [  1.83400000e+01],\n",
       "       [  4.27000000e+00],\n",
       "       [  6.18000000e+00],\n",
       "       [  1.51800000e+01],\n",
       "       [  2.19900000e+01],\n",
       "       [  2.30000000e+00],\n",
       "       [ -4.97000000e+00],\n",
       "       [  1.48000000e+01],\n",
       "       [  1.69800000e+01],\n",
       "       [  2.54500000e+01],\n",
       "       [  5.20000000e+00],\n",
       "       [  2.59000000e+00],\n",
       "       [ -1.58800000e+01],\n",
       "       [  1.41100000e+01],\n",
       "       [ -7.09000000e+00],\n",
       "       [ -6.60000000e-01],\n",
       "       [  3.16100000e+01],\n",
       "       [  9.73000000e+00],\n",
       "       [  3.10200000e+01],\n",
       "       [  5.52000000e+00],\n",
       "       [  1.37600000e+01],\n",
       "       [ -2.35000000e+00],\n",
       "       [  7.09000000e+00],\n",
       "       [  2.14800000e+01],\n",
       "       [  1.47000000e+01],\n",
       "       [  2.70000000e-01],\n",
       "       [  2.30800000e+01],\n",
       "       [  1.34000000e+00],\n",
       "       [ -4.34000000e+00],\n",
       "       [  2.59900000e+01],\n",
       "       [  3.04000000e+01],\n",
       "       [ -5.55000000e+00],\n",
       "       [  1.66000000e+00],\n",
       "       [  6.03000000e+00],\n",
       "       [  1.95400000e+01],\n",
       "       [ -1.07700000e+01],\n",
       "       [ -6.62000000e+00],\n",
       "       [ -2.20000000e+01],\n",
       "       [  1.43900000e+01],\n",
       "       [  2.46900000e+01],\n",
       "       [  1.11300000e+01],\n",
       "       [  6.30000000e-01],\n",
       "       [  3.11700000e+01],\n",
       "       [  2.12700000e+01],\n",
       "       [  1.84500000e+01],\n",
       "       [ -4.53000000e+00],\n",
       "       [  7.98000000e+00],\n",
       "       [  1.58000000e+00],\n",
       "       [  7.00000000e+00],\n",
       "       [  1.14000000e+00],\n",
       "       [  1.37600000e+01],\n",
       "       [  2.27100000e+01],\n",
       "       [  1.19200000e+01],\n",
       "       [  5.95000000e+00],\n",
       "       [  2.99300000e+01],\n",
       "       [ -1.03000000e+01],\n",
       "       [  1.74200000e+01],\n",
       "       [ -1.80000000e+00],\n",
       "       [  1.91000000e+01],\n",
       "       [  2.62000000e+00],\n",
       "       [  3.27300000e+01],\n",
       "       [  2.01100000e+01],\n",
       "       [  1.67700000e+01],\n",
       "       [ -7.69000000e+00],\n",
       "       [ -1.34000000e+00],\n",
       "       [  2.70200000e+01],\n",
       "       [  1.51900000e+01],\n",
       "       [  1.37200000e+01],\n",
       "       [  4.27000000e+00],\n",
       "       [  1.00800000e+01],\n",
       "       [ -3.04000000e+00],\n",
       "       [  2.04800000e+01],\n",
       "       [ -3.70000000e+00],\n",
       "       [  1.04600000e+01],\n",
       "       [  5.90000000e-01],\n",
       "       [  1.71700000e+01],\n",
       "       [  1.26500000e+01],\n",
       "       [  8.84000000e+00],\n",
       "       [  1.39000000e+01],\n",
       "       [  1.00200000e+01],\n",
       "       [  2.15500000e+01],\n",
       "       [  2.17600000e+01],\n",
       "       [  1.66100000e+01],\n",
       "       [  1.68600000e+01],\n",
       "       [  1.01800000e+01],\n",
       "       [  2.25300000e+01],\n",
       "       [  2.33900000e+01],\n",
       "       [  2.07100000e+01],\n",
       "       [ -6.89000000e+00],\n",
       "       [  1.05400000e+01],\n",
       "       [  6.02000000e+00],\n",
       "       [  7.61000000e+00],\n",
       "       [  2.02000000e+00],\n",
       "       [ -5.73000000e+00],\n",
       "       [  9.50000000e+00],\n",
       "       [  1.91800000e+01],\n",
       "       [  2.92300000e+01],\n",
       "       [  2.45400000e+01],\n",
       "       [  2.09000000e+01],\n",
       "       [  1.26600000e+01],\n",
       "       [  7.33000000e+00],\n",
       "       [  1.74200000e+01],\n",
       "       [ -2.89100000e+01],\n",
       "       [ -3.38000000e+00],\n",
       "       [  1.68700000e+01],\n",
       "       [  1.25300000e+01],\n",
       "       [  2.21000000e+01],\n",
       "       [  1.25000000e+00],\n",
       "       [  1.28400000e+01],\n",
       "       [  8.70000000e+00],\n",
       "       [  1.79300000e+01],\n",
       "       [  1.47400000e+01],\n",
       "       [  1.70100000e+01],\n",
       "       [ -5.70000000e+00],\n",
       "       [ -1.40000000e-01],\n",
       "       [  1.78900000e+01],\n",
       "       [ -6.28000000e+00],\n",
       "       [  1.14600000e+01],\n",
       "       [  1.54200000e+01],\n",
       "       [  9.06000000e+00],\n",
       "       [  7.56000000e+00],\n",
       "       [ -5.79000000e+00],\n",
       "       [ -5.62000000e+00],\n",
       "       [  1.83000000e+01],\n",
       "       [  2.38000000e+01],\n",
       "       [  1.05600000e+01],\n",
       "       [  2.54900000e+01],\n",
       "       [  2.55700000e+01],\n",
       "       [  8.44000000e+00],\n",
       "       [  1.78400000e+01],\n",
       "       [  7.00000000e+00],\n",
       "       [  1.85100000e+01],\n",
       "       [ -9.33000000e+00],\n",
       "       [  1.23700000e+01],\n",
       "       [  3.60200000e+01],\n",
       "       [  2.79200000e+01],\n",
       "       [  1.16500000e+01],\n",
       "       [  4.22000000e+00],\n",
       "       [ -2.43000000e+00],\n",
       "       [  2.86500000e+01],\n",
       "       [  2.57700000e+01],\n",
       "       [  1.42900000e+01],\n",
       "       [  7.45000000e+00],\n",
       "       [  2.48300000e+01],\n",
       "       [  8.56000000e+00],\n",
       "       [  2.42300000e+01],\n",
       "       [  8.27000000e+00],\n",
       "       [  8.60000000e-01],\n",
       "       [  2.74800000e+01],\n",
       "       [ -1.04900000e+01],\n",
       "       [  2.20000000e+00],\n",
       "       [  1.77200000e+01],\n",
       "       [ -7.90000000e+00],\n",
       "       [  1.96800000e+01],\n",
       "       [ -7.20000000e-01],\n",
       "       [  1.40500000e+01],\n",
       "       [ -5.08000000e+00],\n",
       "       [  3.08000000e+01],\n",
       "       [  1.93900000e+01],\n",
       "       [  1.75500000e+01],\n",
       "       [  2.75300000e+01],\n",
       "       [ -1.08700000e+01],\n",
       "       [  1.64000000e+00],\n",
       "       [  1.57800000e+01],\n",
       "       [  9.50000000e+00],\n",
       "       [  2.05700000e+01],\n",
       "       [ -5.11000000e+00],\n",
       "       [  8.97000000e+00],\n",
       "       [  2.85100000e+01],\n",
       "       [  1.29200000e+01],\n",
       "       [  1.38300000e+01],\n",
       "       [  6.58000000e+00],\n",
       "       [  2.49600000e+01],\n",
       "       [  9.50000000e+00],\n",
       "       [  3.09700000e+01],\n",
       "       [ -1.69000000e+00],\n",
       "       [  1.36400000e+01],\n",
       "       [  1.74600000e+01],\n",
       "       [  2.08000000e+01],\n",
       "       [  1.92800000e+01],\n",
       "       [  2.73200000e+01],\n",
       "       [  1.72700000e+01],\n",
       "       [  1.13200000e+01],\n",
       "       [  3.30700000e+01],\n",
       "       [ -8.68000000e+00],\n",
       "       [  1.77400000e+01],\n",
       "       [  2.34700000e+01],\n",
       "       [ -9.00000000e-01],\n",
       "       [ -5.51000000e+00],\n",
       "       [  1.54000000e+01],\n",
       "       [  1.31600000e+01],\n",
       "       [  1.23100000e+01],\n",
       "       [ -2.30000000e-01],\n",
       "       [ -1.40500000e+01],\n",
       "       [ -1.81000000e+00],\n",
       "       [  1.56800000e+01],\n",
       "       [  3.23400000e+01],\n",
       "       [ -1.14900000e+01],\n",
       "       [ -1.56100000e+01],\n",
       "       [  1.01800000e+01],\n",
       "       [  2.32800000e+01],\n",
       "       [  8.77000000e+00],\n",
       "       [  1.82800000e+01],\n",
       "       [ -6.07000000e+00],\n",
       "       [  2.14000000e+00],\n",
       "       [  1.67000000e+01],\n",
       "       [  1.53000000e+01],\n",
       "       [  2.39600000e+01],\n",
       "       [ -9.70000000e+00],\n",
       "       [  1.43400000e+01],\n",
       "       [  2.26400000e+01],\n",
       "       [ -6.81000000e+00],\n",
       "       [ -4.05000000e+00],\n",
       "       [  4.20000000e+00],\n",
       "       [ -2.16000000e+00],\n",
       "       [  4.59800000e+01],\n",
       "       [  1.73000000e+00],\n",
       "       [  1.34500000e+01],\n",
       "       [  1.17000000e+00],\n",
       "       [  5.91000000e+00],\n",
       "       [ -5.50000000e+00],\n",
       "       [  1.42300000e+01],\n",
       "       [  2.84100000e+01],\n",
       "       [  1.03400000e+01],\n",
       "       [  2.02100000e+01],\n",
       "       [  8.65000000e+00],\n",
       "       [ -7.22000000e+00],\n",
       "       [  2.56000000e+01],\n",
       "       [ -6.70000000e-01],\n",
       "       [  1.31000000e+01],\n",
       "       [  2.63900000e+01],\n",
       "       [  6.40000000e-01],\n",
       "       [  5.40000000e-01],\n",
       "       [ -4.73000000e+00],\n",
       "       [  1.21000000e+00],\n",
       "       [ -2.66000000e+00],\n",
       "       [  7.70000000e-01],\n",
       "       [  1.22300000e+01],\n",
       "       [  3.21100000e+01],\n",
       "       [  2.02300000e+01],\n",
       "       [  1.33300000e+01],\n",
       "       [  1.07000000e+01],\n",
       "       [  2.17900000e+01],\n",
       "       [  1.47900000e+01],\n",
       "       [  1.77500000e+01],\n",
       "       [  1.98100000e+01],\n",
       "       [  1.23000000e+00],\n",
       "       [ -2.24000000e+00],\n",
       "       [  1.56000000e+01],\n",
       "       [  1.72200000e+01],\n",
       "       [  4.35700000e+01],\n",
       "       [ -9.80000000e+00],\n",
       "       [ -2.16000000e+00],\n",
       "       [ -5.11000000e+00],\n",
       "       [  9.60000000e+00],\n",
       "       [  1.06500000e+01],\n",
       "       [  3.16500000e+01],\n",
       "       [  2.35700000e+01],\n",
       "       [  2.28800000e+01],\n",
       "       [  2.02400000e+01],\n",
       "       [  2.58400000e+01],\n",
       "       [  1.14500000e+01],\n",
       "       [ -1.98000000e+00],\n",
       "       [ -1.15000000e+00],\n",
       "       [  1.03600000e+01],\n",
       "       [  2.11100000e+01],\n",
       "       [  1.00000000e-02],\n",
       "       [  1.26000000e+01],\n",
       "       [  2.44000000e+01],\n",
       "       [  5.66000000e+00],\n",
       "       [ -1.40600000e+01],\n",
       "       [ -2.37000000e+00],\n",
       "       [  2.17200000e+01],\n",
       "       [ -3.90000000e-01],\n",
       "       [  1.31600000e+01],\n",
       "       [  3.23300000e+01],\n",
       "       [  1.02900000e+01],\n",
       "       [  5.93000000e+00],\n",
       "       [ -1.27000000e+01],\n",
       "       [  7.90000000e-01],\n",
       "       [  4.47000000e+00],\n",
       "       [  6.64000000e+00],\n",
       "       [  1.55900000e+01],\n",
       "       [  3.33000000e+01],\n",
       "       [ -2.11000000e+00],\n",
       "       [  9.20000000e-01],\n",
       "       [  2.26400000e+01],\n",
       "       [  1.83100000e+01],\n",
       "       [  2.59300000e+01],\n",
       "       [  2.31500000e+01],\n",
       "       [  1.51300000e+01],\n",
       "       [  1.81600000e+01],\n",
       "       [  1.56100000e+01],\n",
       "       [  7.70000000e-01],\n",
       "       [ -1.07100000e+01],\n",
       "       [  1.32100000e+01],\n",
       "       [  2.20000000e-01],\n",
       "       [  2.50200000e+01],\n",
       "       [  5.22000000e+00],\n",
       "       [ -9.77000000e+00],\n",
       "       [  2.33000000e+00],\n",
       "       [  1.77900000e+01],\n",
       "       [  1.22000000e+01],\n",
       "       [  8.09000000e+00],\n",
       "       [  1.54600000e+01],\n",
       "       [  2.27600000e+01],\n",
       "       [  4.18000000e+00],\n",
       "       [ -9.70000000e-01],\n",
       "       [ -1.93800000e+01],\n",
       "       [  6.33000000e+00],\n",
       "       [  6.43000000e+00],\n",
       "       [  3.29300000e+01],\n",
       "       [  2.86000000e+00],\n",
       "       [  1.59000000e+00],\n",
       "       [  2.29000000e+00],\n",
       "       [  1.35300000e+01],\n",
       "       [ -1.24500000e+01],\n",
       "       [ -7.44000000e+00],\n",
       "       [  1.34800000e+01],\n",
       "       [  1.39400000e+01],\n",
       "       [ -5.90000000e+00],\n",
       "       [  1.18300000e+01],\n",
       "       [ -5.30000000e-01],\n",
       "       [  1.62000000e+01],\n",
       "       [  1.72000000e+01],\n",
       "       [ -1.64200000e+01],\n",
       "       [  3.59800000e+01],\n",
       "       [  6.20000000e+00],\n",
       "       [  2.17800000e+01],\n",
       "       [  1.44400000e+01],\n",
       "       [ -6.45000000e+00],\n",
       "       [  1.42700000e+01],\n",
       "       [  2.62000000e+01],\n",
       "       [ -8.54000000e+00],\n",
       "       [  1.24200000e+01],\n",
       "       [  2.90000000e-01],\n",
       "       [  1.92800000e+01],\n",
       "       [  1.29300000e+01],\n",
       "       [  1.87300000e+01],\n",
       "       [  1.48800000e+01],\n",
       "       [  2.84000000e+00],\n",
       "       [  1.80300000e+01],\n",
       "       [ -1.08500000e+01],\n",
       "       [  2.87600000e+01],\n",
       "       [  1.06400000e+01],\n",
       "       [  1.99800000e+01],\n",
       "       [  2.21700000e+01],\n",
       "       [ -6.63000000e+00],\n",
       "       [  1.98300000e+01],\n",
       "       [  2.45500000e+01],\n",
       "       [  1.17500000e+01],\n",
       "       [  8.03000000e+00],\n",
       "       [ -6.83000000e+00],\n",
       "       [  1.34200000e+01],\n",
       "       [ -1.97700000e+01],\n",
       "       [  1.65600000e+01],\n",
       "       [  3.13500000e+01],\n",
       "       [  2.12400000e+01],\n",
       "       [  1.84200000e+01],\n",
       "       [  3.98000000e+00],\n",
       "       [  1.51300000e+01],\n",
       "       [  1.94900000e+01],\n",
       "       [ -1.18000000e+00],\n",
       "       [  3.08800000e+01],\n",
       "       [  2.56000000e+00],\n",
       "       [  1.12800000e+01],\n",
       "       [  2.34000000e+01],\n",
       "       [  7.42000000e+00],\n",
       "       [ -4.80000000e-01],\n",
       "       [  1.18000000e+01],\n",
       "       [  1.82600000e+01],\n",
       "       [  9.16000000e+00],\n",
       "       [  1.21400000e+01],\n",
       "       [  1.46900000e+01],\n",
       "       [  1.16100000e+01],\n",
       "       [  1.46600000e+01],\n",
       "       [  2.22600000e+01],\n",
       "       [  3.63500000e+01],\n",
       "       [  2.59700000e+01],\n",
       "       [  2.98500000e+01],\n",
       "       [  1.67100000e+01],\n",
       "       [  1.05500000e+01],\n",
       "       [  2.22500000e+01],\n",
       "       [  1.93600000e+01],\n",
       "       [  5.07000000e+00],\n",
       "       [  8.90000000e-01],\n",
       "       [  1.67800000e+01],\n",
       "       [  1.47300000e+01],\n",
       "       [  1.13000000e+01],\n",
       "       [  1.63300000e+01],\n",
       "       [  1.45000000e+01],\n",
       "       [  4.10000000e+00],\n",
       "       [ -1.90600000e+01],\n",
       "       [  1.07800000e+01],\n",
       "       [ -4.30000000e-01],\n",
       "       [  1.89000000e+01],\n",
       "       [  1.00600000e+01],\n",
       "       [  6.61000000e+00],\n",
       "       [  1.80000000e-01],\n",
       "       [ -1.38900000e+01],\n",
       "       [ -4.74000000e+00],\n",
       "       [  1.15000000e+01],\n",
       "       [  1.67800000e+01],\n",
       "       [  2.94400000e+01],\n",
       "       [  2.04800000e+01],\n",
       "       [  2.23100000e+01],\n",
       "       [  7.61000000e+00],\n",
       "       [  1.08100000e+01],\n",
       "       [  1.58300000e+01],\n",
       "       [ -8.48000000e+00],\n",
       "       [  1.58900000e+01],\n",
       "       [  1.59300000e+01],\n",
       "       [  3.13100000e+01],\n",
       "       [  2.61500000e+01],\n",
       "       [  2.30100000e+01],\n",
       "       [  3.47400000e+01],\n",
       "       [  9.26000000e+00],\n",
       "       [  1.33400000e+01],\n",
       "       [ -1.08600000e+01],\n",
       "       [  2.04500000e+01],\n",
       "       [ -1.38100000e+01],\n",
       "       [  1.04600000e+01],\n",
       "       [ -4.22000000e+00],\n",
       "       [  2.16400000e+01],\n",
       "       [  9.42000000e+00],\n",
       "       [  1.91100000e+01],\n",
       "       [ -1.40000000e-01],\n",
       "       [  7.69000000e+00],\n",
       "       [  7.20000000e-01],\n",
       "       [ -6.11000000e+00],\n",
       "       [ -1.99700000e+01],\n",
       "       [  1.25400000e+01],\n",
       "       [  1.95000000e+00],\n",
       "       [  1.35300000e+01],\n",
       "       [  2.51800000e+01],\n",
       "       [  1.27000000e+01],\n",
       "       [  1.13100000e+01],\n",
       "       [  2.88000000e+01],\n",
       "       [  6.78000000e+00],\n",
       "       [  1.97300000e+01],\n",
       "       [ -1.25800000e+01],\n",
       "       [  8.99000000e+00],\n",
       "       [  2.82000000e+01],\n",
       "       [  1.68900000e+01],\n",
       "       [  6.81000000e+00],\n",
       "       [  8.55000000e+00],\n",
       "       [ -3.57000000e+00],\n",
       "       [  9.82000000e+00],\n",
       "       [  2.45100000e+01],\n",
       "       [  2.70600000e+01],\n",
       "       [  1.50200000e+01],\n",
       "       [  2.22600000e+01],\n",
       "       [ -6.20000000e+00],\n",
       "       [  1.88500000e+01],\n",
       "       [  1.33800000e+01],\n",
       "       [  2.13500000e+01],\n",
       "       [ -7.54000000e+00],\n",
       "       [  2.25600000e+01],\n",
       "       [ -2.30000000e-01],\n",
       "       [  2.15100000e+01],\n",
       "       [  3.45000000e+00],\n",
       "       [  5.21000000e+00],\n",
       "       [  7.44000000e+00],\n",
       "       [  3.45000000e+00],\n",
       "       [  1.70900000e+01],\n",
       "       [  9.82000000e+00],\n",
       "       [  2.65700000e+01],\n",
       "       [ -5.78000000e+00]])"
      ]
     },
     "execution_count": 7,
     "metadata": {},
     "output_type": "execute_result"
    }
   ],
   "source": [
    "Y"
   ]
  },
  {
   "cell_type": "markdown",
   "metadata": {
    "deletable": true,
    "editable": true
   },
   "source": [
    "## Train-test split"
   ]
  },
  {
   "cell_type": "code",
   "execution_count": 8,
   "metadata": {
    "collapsed": false,
    "deletable": true,
    "editable": true
   },
   "outputs": [],
   "source": [
    "from sklearn.model_selection import train_test_split"
   ]
  },
  {
   "cell_type": "code",
   "execution_count": 9,
   "metadata": {
    "collapsed": true,
    "deletable": true,
    "editable": true
   },
   "outputs": [],
   "source": [
    "x_train, x_test, y_train, y_test = train_test_split(X, Y, test_size=0.25, random_state=42)"
   ]
  },
  {
   "cell_type": "markdown",
   "metadata": {
    "deletable": true,
    "editable": true
   },
   "source": [
    "## Training the model"
   ]
  },
  {
   "cell_type": "code",
   "execution_count": 10,
   "metadata": {
    "collapsed": true,
    "deletable": true,
    "editable": true
   },
   "outputs": [],
   "source": [
    "from sklearn import linear_model"
   ]
  },
  {
   "cell_type": "code",
   "execution_count": 11,
   "metadata": {
    "collapsed": true,
    "deletable": true,
    "editable": true
   },
   "outputs": [],
   "source": [
    "model_linear = linear_model.LinearRegression()\n",
    "model_ridge = linear_model.Ridge(alpha = 0.01, fit_intercept=True, max_iter=10000)"
   ]
  },
  {
   "cell_type": "code",
   "execution_count": 12,
   "metadata": {
    "collapsed": false,
    "deletable": true,
    "editable": true
   },
   "outputs": [
    {
     "data": {
      "text/plain": [
       "Ridge(alpha=0.01, copy_X=True, fit_intercept=True, max_iter=10000,\n",
       "   normalize=False, random_state=None, solver='auto', tol=0.001)"
      ]
     },
     "execution_count": 12,
     "metadata": {},
     "output_type": "execute_result"
    }
   ],
   "source": [
    "model_linear.fit(x_train, y_train)\n",
    "model_ridge.fit(x_train, y_train)"
   ]
  },
  {
   "cell_type": "code",
   "execution_count": 13,
   "metadata": {
    "collapsed": true,
    "deletable": true,
    "editable": true
   },
   "outputs": [],
   "source": [
    "y_pred_linear = model_linear.predict(x_test)\n",
    "y_pred_ridge = model_ridge.predict(x_test)"
   ]
  },
  {
   "cell_type": "markdown",
   "metadata": {
    "deletable": true,
    "editable": true
   },
   "source": [
    "## Plots"
   ]
  },
  {
   "cell_type": "markdown",
   "metadata": {
    "deletable": true,
    "editable": true
   },
   "source": [
    "And this is what happens when you forget what data you're dealing with.."
   ]
  },
  {
   "cell_type": "code",
   "execution_count": 14,
   "metadata": {
    "collapsed": true,
    "deletable": true,
    "editable": true
   },
   "outputs": [],
   "source": [
    "import matplotlib.pyplot as plt"
   ]
  },
  {
   "cell_type": "code",
   "execution_count": 15,
   "metadata": {
    "collapsed": false,
    "deletable": true,
    "editable": true
   },
   "outputs": [
    {
     "ename": "ValueError",
     "evalue": "x and y must be the same size",
     "output_type": "error",
     "traceback": [
      "\u001b[0;31m---------------------------------------------------------------------------\u001b[0m",
      "\u001b[0;31mValueError\u001b[0m                                Traceback (most recent call last)",
      "\u001b[0;32m<ipython-input-15-142ddc341e6d>\u001b[0m in \u001b[0;36m<module>\u001b[0;34m()\u001b[0m\n\u001b[1;32m      1\u001b[0m \u001b[0mfig\u001b[0m\u001b[0;34m,\u001b[0m \u001b[0max\u001b[0m \u001b[0;34m=\u001b[0m \u001b[0mplt\u001b[0m\u001b[0;34m.\u001b[0m\u001b[0msubplots\u001b[0m\u001b[0;34m(\u001b[0m\u001b[0;34m)\u001b[0m\u001b[0;34m\u001b[0m\u001b[0m\n\u001b[0;32m----> 2\u001b[0;31m \u001b[0mplt\u001b[0m\u001b[0;34m.\u001b[0m\u001b[0mscatter\u001b[0m\u001b[0;34m(\u001b[0m\u001b[0mx_train\u001b[0m\u001b[0;34m,\u001b[0m \u001b[0my_train\u001b[0m\u001b[0;34m,\u001b[0m \u001b[0mcolor\u001b[0m\u001b[0;34m=\u001b[0m\u001b[0;34m'red'\u001b[0m\u001b[0;34m)\u001b[0m\u001b[0;34m\u001b[0m\u001b[0m\n\u001b[0m\u001b[1;32m      3\u001b[0m \u001b[0mplt\u001b[0m\u001b[0;34m.\u001b[0m\u001b[0mplot\u001b[0m\u001b[0;34m(\u001b[0m\u001b[0mx_test\u001b[0m\u001b[0;34m,\u001b[0m \u001b[0my_pred_linear\u001b[0m\u001b[0;34m,\u001b[0m \u001b[0mcolor\u001b[0m\u001b[0;34m=\u001b[0m\u001b[0;34m'black'\u001b[0m\u001b[0;34m,\u001b[0m \u001b[0mlinewidth\u001b[0m\u001b[0;34m=\u001b[0m\u001b[0;36m3\u001b[0m\u001b[0;34m)\u001b[0m\u001b[0;34m\u001b[0m\u001b[0m\n\u001b[1;32m      4\u001b[0m \u001b[0mplt\u001b[0m\u001b[0;34m.\u001b[0m\u001b[0mplot\u001b[0m\u001b[0;34m(\u001b[0m\u001b[0mx_test\u001b[0m\u001b[0;34m,\u001b[0m \u001b[0my_pred_ridge\u001b[0m\u001b[0;34m,\u001b[0m \u001b[0mcolor\u001b[0m\u001b[0;34m=\u001b[0m\u001b[0;34m'orange'\u001b[0m\u001b[0;34m,\u001b[0m \u001b[0mlinewidth\u001b[0m\u001b[0;34m=\u001b[0m\u001b[0;36m3\u001b[0m\u001b[0;34m)\u001b[0m\u001b[0;34m\u001b[0m\u001b[0m\n\u001b[1;32m      5\u001b[0m \u001b[0mplt\u001b[0m\u001b[0;34m.\u001b[0m\u001b[0mtitle\u001b[0m\u001b[0;34m(\u001b[0m\u001b[0;34m'Linear Model'\u001b[0m\u001b[0;34m)\u001b[0m\u001b[0;34m\u001b[0m\u001b[0m\n",
      "\u001b[0;32m/usr/local/lib/python2.7/dist-packages/matplotlib/pyplot.pyc\u001b[0m in \u001b[0;36mscatter\u001b[0;34m(x, y, s, c, marker, cmap, norm, vmin, vmax, alpha, linewidths, verts, edgecolors, hold, data, **kwargs)\u001b[0m\n\u001b[1;32m   3433\u001b[0m                          \u001b[0mvmin\u001b[0m\u001b[0;34m=\u001b[0m\u001b[0mvmin\u001b[0m\u001b[0;34m,\u001b[0m \u001b[0mvmax\u001b[0m\u001b[0;34m=\u001b[0m\u001b[0mvmax\u001b[0m\u001b[0;34m,\u001b[0m \u001b[0malpha\u001b[0m\u001b[0;34m=\u001b[0m\u001b[0malpha\u001b[0m\u001b[0;34m,\u001b[0m\u001b[0;34m\u001b[0m\u001b[0m\n\u001b[1;32m   3434\u001b[0m                          \u001b[0mlinewidths\u001b[0m\u001b[0;34m=\u001b[0m\u001b[0mlinewidths\u001b[0m\u001b[0;34m,\u001b[0m \u001b[0mverts\u001b[0m\u001b[0;34m=\u001b[0m\u001b[0mverts\u001b[0m\u001b[0;34m,\u001b[0m\u001b[0;34m\u001b[0m\u001b[0m\n\u001b[0;32m-> 3435\u001b[0;31m                          edgecolors=edgecolors, data=data, **kwargs)\n\u001b[0m\u001b[1;32m   3436\u001b[0m     \u001b[0;32mfinally\u001b[0m\u001b[0;34m:\u001b[0m\u001b[0;34m\u001b[0m\u001b[0m\n\u001b[1;32m   3437\u001b[0m         \u001b[0max\u001b[0m\u001b[0;34m.\u001b[0m\u001b[0m_hold\u001b[0m \u001b[0;34m=\u001b[0m \u001b[0mwashold\u001b[0m\u001b[0;34m\u001b[0m\u001b[0m\n",
      "\u001b[0;32m/usr/local/lib/python2.7/dist-packages/matplotlib/__init__.pyc\u001b[0m in \u001b[0;36minner\u001b[0;34m(ax, *args, **kwargs)\u001b[0m\n\u001b[1;32m   1890\u001b[0m                     warnings.warn(msg % (label_namer, func.__name__),\n\u001b[1;32m   1891\u001b[0m                                   RuntimeWarning, stacklevel=2)\n\u001b[0;32m-> 1892\u001b[0;31m             \u001b[0;32mreturn\u001b[0m \u001b[0mfunc\u001b[0m\u001b[0;34m(\u001b[0m\u001b[0max\u001b[0m\u001b[0;34m,\u001b[0m \u001b[0;34m*\u001b[0m\u001b[0margs\u001b[0m\u001b[0;34m,\u001b[0m \u001b[0;34m**\u001b[0m\u001b[0mkwargs\u001b[0m\u001b[0;34m)\u001b[0m\u001b[0;34m\u001b[0m\u001b[0m\n\u001b[0m\u001b[1;32m   1893\u001b[0m         \u001b[0mpre_doc\u001b[0m \u001b[0;34m=\u001b[0m \u001b[0minner\u001b[0m\u001b[0;34m.\u001b[0m\u001b[0m__doc__\u001b[0m\u001b[0;34m\u001b[0m\u001b[0m\n\u001b[1;32m   1894\u001b[0m         \u001b[0;32mif\u001b[0m \u001b[0mpre_doc\u001b[0m \u001b[0;32mis\u001b[0m \u001b[0mNone\u001b[0m\u001b[0;34m:\u001b[0m\u001b[0;34m\u001b[0m\u001b[0m\n",
      "\u001b[0;32m/usr/local/lib/python2.7/dist-packages/matplotlib/axes/_axes.pyc\u001b[0m in \u001b[0;36mscatter\u001b[0;34m(self, x, y, s, c, marker, cmap, norm, vmin, vmax, alpha, linewidths, verts, edgecolors, **kwargs)\u001b[0m\n\u001b[1;32m   3956\u001b[0m         \u001b[0my\u001b[0m \u001b[0;34m=\u001b[0m \u001b[0mnp\u001b[0m\u001b[0;34m.\u001b[0m\u001b[0mma\u001b[0m\u001b[0;34m.\u001b[0m\u001b[0mravel\u001b[0m\u001b[0;34m(\u001b[0m\u001b[0my\u001b[0m\u001b[0;34m)\u001b[0m\u001b[0;34m\u001b[0m\u001b[0m\n\u001b[1;32m   3957\u001b[0m         \u001b[0;32mif\u001b[0m \u001b[0mx\u001b[0m\u001b[0;34m.\u001b[0m\u001b[0msize\u001b[0m \u001b[0;34m!=\u001b[0m \u001b[0my\u001b[0m\u001b[0;34m.\u001b[0m\u001b[0msize\u001b[0m\u001b[0;34m:\u001b[0m\u001b[0;34m\u001b[0m\u001b[0m\n\u001b[0;32m-> 3958\u001b[0;31m             \u001b[0;32mraise\u001b[0m \u001b[0mValueError\u001b[0m\u001b[0;34m(\u001b[0m\u001b[0;34m\"x and y must be the same size\"\u001b[0m\u001b[0;34m)\u001b[0m\u001b[0;34m\u001b[0m\u001b[0m\n\u001b[0m\u001b[1;32m   3959\u001b[0m \u001b[0;34m\u001b[0m\u001b[0m\n\u001b[1;32m   3960\u001b[0m         \u001b[0;32mif\u001b[0m \u001b[0ms\u001b[0m \u001b[0;32mis\u001b[0m \u001b[0mNone\u001b[0m\u001b[0;34m:\u001b[0m\u001b[0;34m\u001b[0m\u001b[0m\n",
      "\u001b[0;31mValueError\u001b[0m: x and y must be the same size"
     ]
    }
   ],
   "source": [
    "fig, ax = plt.subplots()\n",
    "plt.scatter(x_train, y_train, color='red')\n",
    "plt.plot(x_test, y_pred_linear, color='black', linewidth=3)\n",
    "plt.plot(x_test, y_pred_ridge, color='orange', linewidth=3)\n",
    "plt.title('Linear Model')\n",
    "plt.show"
   ]
  },
  {
   "cell_type": "markdown",
   "metadata": {
    "deletable": true,
    "editable": true
   },
   "source": [
    "I tried to plot 4 dimensional vectors"
   ]
  },
  {
   "cell_type": "markdown",
   "metadata": {
    "deletable": true,
    "editable": true
   },
   "source": [
    "## Metrics"
   ]
  },
  {
   "cell_type": "code",
   "execution_count": null,
   "metadata": {
    "collapsed": false,
    "deletable": true,
    "editable": true
   },
   "outputs": [],
   "source": [
    "import sklearn.metrics as sm\n",
    "\n",
    "print 'LINEAR:'\n",
    "print 'Mean absolute error =', round(sm.mean_absolute_error(y_test, y_pred_linear))\n",
    "print 'Mean squared error =', round(sm.mean_squared_error(y_test, y_pred_linear), 2)\n",
    "print 'Median absolute error =', round(sm.median_absolute_error(y_test, y_pred_linear), 2)\n",
    "print 'Explained variance score =', round(sm.explained_variance_score(y_test, y_pred_linear), 2)\n",
    "print 'R2 score =', round(sm.r2_score(y_test, y_pred_linear), 2)\n",
    "\n",
    "print '\\nRIDGE:'\n",
    "print 'Mean absolute error =', round(sm.mean_absolute_error(y_test, y_pred_ridge), 2)\n",
    "print 'Mean squared error =', round(sm.mean_squared_error(y_test, y_pred_ridge), 2)\n",
    "print 'Median absolute error =', round(sm.median_absolute_error(y_test, y_pred_ridge), 2)\n",
    "print 'Explained variance score =', round(sm.explained_variance_score(y_test, y_pred_ridge), 2)\n",
    "print 'R2 score =', round(sm.r2_score(y_test, y_pred_ridge), 2)\n"
   ]
  },
  {
   "cell_type": "code",
   "execution_count": null,
   "metadata": {
    "collapsed": true,
    "deletable": true,
    "editable": true
   },
   "outputs": [],
   "source": []
  },
  {
   "cell_type": "code",
   "execution_count": null,
   "metadata": {
    "collapsed": true
   },
   "outputs": [],
   "source": []
  }
 ],
 "metadata": {
  "kernelspec": {
   "display_name": "Python 2",
   "language": "python",
   "name": "python2"
  },
  "language_info": {
   "codemirror_mode": {
    "name": "ipython",
    "version": 2
   },
   "file_extension": ".py",
   "mimetype": "text/x-python",
   "name": "python",
   "nbconvert_exporter": "python",
   "pygments_lexer": "ipython2",
   "version": "2.7.12"
  }
 },
 "nbformat": 4,
 "nbformat_minor": 2
}
