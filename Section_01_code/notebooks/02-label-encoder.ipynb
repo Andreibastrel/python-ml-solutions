{
 "cells": [
  {
   "cell_type": "markdown",
   "metadata": {},
   "source": [
    "# Label encoders"
   ]
  },
  {
   "cell_type": "code",
   "execution_count": 1,
   "metadata": {
    "collapsed": true
   },
   "outputs": [],
   "source": [
    "import numpy as np\n",
    "from sklearn import preprocessing"
   ]
  },
  {
   "cell_type": "code",
   "execution_count": 3,
   "metadata": {
    "collapsed": false
   },
   "outputs": [],
   "source": [
    "encoder = preprocessing.LabelEncoder()\n",
    "drinks_classes = ['coke', 'pepsi', 'mountain-dew', 'sprite', 'limca', 'fanta', 'mirinda']\n",
    "encoded_drinks = encoder.fit(drinks_classes)"
   ]
  },
  {
   "cell_type": "code",
   "execution_count": 6,
   "metadata": {
    "collapsed": false
   },
   "outputs": [
    {
     "name": "stdout",
     "output_type": "stream",
     "text": [
      "0 coke\n",
      "1 fanta\n",
      "2 limca\n",
      "3 mirinda\n",
      "4 mountain-dew\n",
      "5 pepsi\n",
      "6 sprite\n"
     ]
    }
   ],
   "source": [
    "for k,v in enumerate(encoded_drinks.classes_):\n",
    "    print k, v"
   ]
  },
  {
   "cell_type": "code",
   "execution_count": 10,
   "metadata": {
    "collapsed": false
   },
   "outputs": [
    {
     "name": "stdout",
     "output_type": "stream",
     "text": [
      "[2 6 0]\n"
     ]
    }
   ],
   "source": [
    "labels = ['limca', 'sprite', 'coke']\n",
    "drinks_code = encoder.transform(labels)\n",
    "print drinks_code"
   ]
  },
  {
   "cell_type": "code",
   "execution_count": 11,
   "metadata": {
    "collapsed": false
   },
   "outputs": [
    {
     "data": {
      "text/plain": [
       "array(['limca', 'sprite', 'coke'], \n",
       "      dtype='|S12')"
      ]
     },
     "execution_count": 11,
     "metadata": {},
     "output_type": "execute_result"
    }
   ],
   "source": [
    "encoder.inverse_transform(drinks_code)"
   ]
  }
 ],
 "metadata": {
  "kernelspec": {
   "display_name": "Python 2",
   "language": "python",
   "name": "python2"
  },
  "language_info": {
   "codemirror_mode": {
    "name": "ipython",
    "version": 2
   },
   "file_extension": ".py",
   "mimetype": "text/x-python",
   "name": "python",
   "nbconvert_exporter": "python",
   "pygments_lexer": "ipython2",
   "version": "2.7.12"
  }
 },
 "nbformat": 4,
 "nbformat_minor": 2
}
